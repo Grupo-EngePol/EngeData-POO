{
 "cells": [
  {
   "cell_type": "code",
   "execution_count": null,
   "id": "846ab754",
   "metadata": {},
   "outputs": [],
   "source": []
  },
  {
   "cell_type": "markdown",
   "id": "67c6f841",
   "metadata": {},
   "source": [
    "Módulo 1 – Paradigma procedural vs. orientado a objetos (1h)\n",
    "•\tParadigma procedural vs. orientado a objetos\n",
    "o\tQual a vantagem de usar POO ao invez de funcional\n",
    "o\tQuais implicações nas nossas atividades\n",
    "•\tExemplo: script de cálculo de equação de estado\n"
   ]
  },
  {
   "cell_type": "markdown",
   "id": "15355238",
   "metadata": {},
   "source": []
  }
 ],
 "metadata": {
  "language_info": {
   "name": "python"
  }
 },
 "nbformat": 4,
 "nbformat_minor": 5
}
