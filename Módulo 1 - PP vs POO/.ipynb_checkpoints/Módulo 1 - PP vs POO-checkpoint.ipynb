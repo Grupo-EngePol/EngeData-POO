{
 "cells": [
  {
   "cell_type": "code",
   "execution_count": null,
   "id": "846ab754",
   "metadata": {},
   "outputs": [],
   "source": [
    "# Este notebook é parte do curso de POO para Engenharia de Dados\n",
    "# Módulo 1: Paradigma procedural vs. orientado a objetos\n"
   ]
  },
  {
   "cell_type": "markdown",
   "id": "67c6f841",
   "metadata": {},
   "source": [
    "### Paradigma procedural vs. orientado a objetos\n",
    "\n",
    "- O paradigma procedural organiza o código em funções e procedimentos, com dados e lógica separados.\n",
    "- O paradigma orientado a objetos organiza o código em \"objetos\", que agrupam dados e comportamentos relacionados.\n",
    "\n",
    "#### Vantagens práticas do paradigma orientado a objetos:\n",
    "- Facilita a manutenção e evolução do código.\n",
    "- Permite reutilização e extensão de funcionalidades.\n",
    "- Torna o código mais próximo do mundo real, facilitando o entendimento.\n",
    "\n",
    "#### Implicações nas nossas atividades:\n",
    "- Projetos maiores e mais complexos se beneficiam da organização OO.\n",
    "- Pequenos scripts podem ser mais simples no procedural, mas OO traz vantagens à medida que o projeto cresce.\n",
    "\n",
    "slideshow: {\"slide_type\": \"slide\"}"
   ]
  },
  {
   "cell_type": "markdown",
   "id": "15355238",
   "metadata": {},
   "source": [
    "#### Exemplo ilustrativo: Equação de estado dos gases ideais\n",
    "\n",
    "<img src=\"Equacoes_de_estado.png\" alt=\"Equações de estado - Exemplo ilustrativo\" style=\"max-width: 100%; height: auto;\">\n",
    "\n",
    "slideshow: {\"slide_type\": \"slide\"}"
   ]
  },
  {
   "cell_type": "code",
   "execution_count": null,
   "id": "c7dc61a7",
   "metadata": {},
   "outputs": [
    {
     "name": "stdout",
     "output_type": "stream",
     "text": [
      "Volume molar (procedural): 2.46 L/mol\n"
     ]
    }
   ],
   "source": [
    "# Paradigma Procedural: exemplo prático\n",
    "\n",
    "# Cálculo do volume molar usando a equação de estado dos gases ideais\n",
    "R = 0.0821  # constante dos gases (L.atm)/(mol.K)\n",
    "T = 300     # temperatura (K)\n",
    "P = 10      # pressão (atm)\n",
    "\n",
    "# Procedimento procedural\n",
    "\n",
    "def calc_volume_molar_ideal(T, P):\n",
    "    return R * T / P\n",
    "\n",
    "Vm = calc_volume_molar_ideal(T, P)\n",
    "\n",
    "print(f\"Volume molar (procedural): {Vm:.2f} L/mol\")\n",
    "\n",
    "#slideshow: {\"slide_type\": \"slide\"}"
   ]
  },
  {
   "cell_type": "markdown",
   "id": "a17df199",
   "metadata": {},
   "source": [
    "## Paradigma Orientado a Objetos: exemplo prático\n",
    "\n",
    "Veja como o mesmo cálculo pode ser organizado usando o paradigma orientado a objetos.\n",
    "\n",
    "slideshow: {\"slide_type\": \"slide\"}"
   ]
  },
  {
   "cell_type": "markdown",
   "id": "bc04ee83",
   "metadata": {},
   "source": [
    "## Discussão prática\n",
    "\n",
    "Compare os dois exemplos acima:\n",
    "- O procedural é direto, mas difícil de expandir para outros tipos de gases ou equações.\n",
    "- O orientado a objetos permite criar novos métodos e reutilizar o código facilmente.\n",
    "\n",
    "### Perguntas para reflexão\n",
    "- Em que situações o procedural é suficiente?\n",
    "- Quando vale a pena usar OO?\n",
    "- Como a organização do código impacta a manutenção e evolução dos projetos?\n",
    "\n",
    "slideshow: {\"slide_type\": \"slide\"}"
   ]
  },
  {
   "cell_type": "code",
   "execution_count": null,
   "id": "fa0e268a",
   "metadata": {},
   "outputs": [],
   "source": [
    "# Paradigma Orientado a Objetos: exemplo prático\n",
    "\n",
    "class GasIdeal:\n",
    "    def __init__(self, R=0.0821):\n",
    "        self.R = R\n",
    "    def calc_volume_molar(self, T, P):\n",
    "        return self.R * T / P\n",
    "\n",
    "gas = GasIdeal()\n",
    "\n",
    "Vm_oo = gas.calc_volume_molar(T, P)\n",
    "\n",
    "print(f\"Volume molar (orientado a objetos): {Vm_oo:.2f} L/mol\")\n",
    "\n",
    "#slideshow: {\"slide_type\": \"slide\"}"
   ]
  },
  {
   "cell_type": "markdown",
   "id": "5bea118c",
   "metadata": {},
   "source": [
    "## Exemplo prático: Sensor virtual de vazão de gás\n",
    "\n",
    "Imagine que precisamos criar um sensor virtual para estimar a vazão de um gás em diferentes condições de operação. Com orientação a objetos, podemos criar uma classe que representa o sensor e encapsula toda a lógica necessária, facilitando a manutenção e expansão do código.\n",
    "\n",
    "slideshow: {\"slide_type\": \"slide\"}"
   ]
  },
  {
   "cell_type": "code",
   "execution_count": null,
   "id": "df54b596",
   "metadata": {},
   "outputs": [],
   "source": [
    "# Classe para sensor virtual de vazão de gás\n",
    "\n",
    "class SensorVirtualVazao:\n",
    "    def __init__(self, R=0.0821):\n",
    "        self.R = R\n",
    "    def calc_volume_molar(self, T, P):\n",
    "        return self.R * T / P\n",
    "    def estimar_vazao(self, T, P, n, dt):\n",
    "        Vm = self.calc_volume_molar(T, P)\n",
    "        return n * Vm / dt  # vazão em L/s\n",
    "\n",
    "# Exemplo de uso:\n",
    "\n",
    "sensor = SensorVirtualVazao()\n",
    "\n",
    "T = 320  # K\n",
    "\n",
    "P = 8    # atm\n",
    "\n",
    "n = 0.5  # mols de gás\n",
    "\n",
    "dt = 10  # intervalo de tempo em segundos\n",
    "\n",
    "vazao = sensor.estimar_vazao(T, P, n, dt)\n",
    "\n",
    "print(f\"Vazão estimada: {vazao:.2f} L/s\")\n",
    "\n",
    "#slideshow: {\"slide_type\": \"slide\"}"
   ]
  }
 ],
 "metadata": {
  "kernelspec": {
   "display_name": "datascience",
   "language": "python",
   "name": "python3"
  },
  "language_info": {
   "codemirror_mode": {
    "name": "ipython",
    "version": 3
   },
   "file_extension": ".py",
   "mimetype": "text/x-python",
   "name": "python",
   "nbconvert_exporter": "python",
   "pygments_lexer": "ipython3",
   "version": "3.11.0"
  }
 },
 "nbformat": 4,
 "nbformat_minor": 5
}
