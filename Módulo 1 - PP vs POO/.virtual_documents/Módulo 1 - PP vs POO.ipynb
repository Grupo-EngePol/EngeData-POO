# Este notebook é parte do curso de POO para Engenharia de Dados
# Módulo 1: Paradigma procedural vs. orientado a objetos









# Paradigma Procedural: exemplo prático

# Cálculo do volume molar usando a equação de estado dos gases ideais
R = 0.0821  # constante dos gases (L.atm)/(mol.K)
T = 300     # temperatura (K)
P = 10      # pressão (atm)

# Procedimento procedural

def calc_volume_molar_ideal(T, P):
    return R * T / P

Vm = calc_volume_molar_ideal(T, P)

print(f"Volume molar (procedural): {Vm:.2f} L/mol")

#slideshow: {"slide_type": "slide"}








# Paradigma Orientado a Objetos: exemplo prático

class GasIdeal:
    def __init__(self, R=0.0821):
        self.R = R
    def calc_volume_molar(self, T, P):
        return self.R * T / P

gas = GasIdeal()

Vm_oo = gas.calc_volume_molar(T, P)

print(f"Volume molar (orientado a objetos): {Vm_oo:.2f} L/mol")

#slideshow: {"slide_type": "slide"}





# Classe para sensor virtual de vazão de gás

class SensorVirtualVazao:
    def __init__(self, R=0.0821):
        self.R = R
    def calc_volume_molar(self, T, P):
        return self.R * T / P
    def estimar_vazao(self, T, P, n, dt):
        Vm = self.calc_volume_molar(T, P)
        return n * Vm / dt  # vazão em L/s

# Exemplo de uso:

sensor = SensorVirtualVazao()

T = 320  # K

P = 8    # atm

n = 0.5  # mols de gás

dt = 10  # intervalo de tempo em segundos

vazao = sensor.estimar_vazao(T, P, n, dt)

print(f"Vazão estimada: {vazao:.2f} L/s")

#slideshow: {"slide_type": "slide"}
