{
 "cells": [
  {
   "cell_type": "code",
   "execution_count": null,
   "id": "846ab754",
   "metadata": {},
   "outputs": [],
   "source": []
  },
  {
   "cell_type": "markdown",
   "id": "fab14041",
   "metadata": {},
   "source": [
    "Módulo 2 – Fundamentos da Programação Orientada a Objetos (1h)\n",
    "•\tConceitos: classe, objeto, atributos, métodos\n",
    "•\tConstrutores, encapsulamento, herança, polimorfismo\n",
    "•\t@staticmethod, @clasmethod\n",
    "•\tExemplo: encapsular uma equação de estado em uma classe e mostrar a diferença do procedural\n",
    "\n"
   ]
  },
  {
   "cell_type": "markdown",
   "id": "d2247e51",
   "metadata": {},
   "source": []
  }
 ],
 "metadata": {
  "language_info": {
   "name": "python"
  }
 },
 "nbformat": 4,
 "nbformat_minor": 5
}
