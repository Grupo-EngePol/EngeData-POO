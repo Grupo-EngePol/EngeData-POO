{
 "cells": [
  {
   "cell_type": "code",
   "execution_count": null,
   "id": "846ab754",
   "metadata": {},
   "outputs": [],
   "source": []
  },
  {
   "cell_type": "markdown",
   "id": "fab14041",
   "metadata": {},
   "source": [
    "Módulo 2 – Fundamentos da Programação Orientada a Objetos (1h)\n",
    "•\tConceitos: classe, objeto, atributos, métodos\n",
    "•\tConstrutores, encapsulamento, herança, polimorfismo\n",
    "•\t@staticmethod, @clasmethod\n",
    "•\tExemplo: encapsular uma equação de estado em uma classe e mostrar a diferença do procedural\n",
    "\n"
   ]
  },
  {
   "cell_type": "markdown",
   "id": "d2247e51",
   "metadata": {},
   "source": [
    "# Introdução ao Python OPP\n",
    "Antes de mais nada é importante salientar aqui que, em\n",
    "outras linguagens de programação quando começamos a nos\n",
    "aprofundar nos estudos de classes normalmente há uma separação\n",
    "desde tipo de conteúdo dos demais por estar entrando na área\n",
    "comumente chamada de orientação a objetos, em Python não há\n",
    "necessidade de fazer tal distinção uma vez que toda a linguagem\n",
    "em sua forma já é nativa orientada a objetos"
   ]
  },
  {
   "cell_type": "code",
   "execution_count": null,
   "id": "c5edd722",
   "metadata": {},
   "outputs": [],
   "source": [
    "# Exemplo lista\n",
    "lista = [1, 2, 3, 4, 5]\n",
    "lista.append(6)  # Adiciona 6 ao final da lista\n",
    "print(\"Lista após append:\", lista)"
   ]
  },
  {
   "cell_type": "markdown",
   "id": "f2637a7d",
   "metadata": {},
   "source": [
    "## Definição de Classe\n",
    "Uma classe dentro das linguagens de programação nada\n",
    "mais é do que um objeto que ficará reservado ao sistema tanto para\n",
    "indexação quanto para uso de sua estrutura, é como se criassemos\n",
    "uma espécie de molde de onde podemos criar uma série de objetos\n",
    "a partir desse molde. Assim como podemos inserir diversos outros\n",
    "objetos dentro deles de forma que fiquem instanciáveis (de forma\n",
    "que permita manipular seu conteúdo), modularizados, oferecendo\n",
    "uma complexa mas muito eficiente maneira de se trabalhar com\n",
    "objetos.\n",
    "\n",
    "Parece confuso mas na prática é relativamente simples,\n",
    "tenha em mente que para Python toda variável é um objeto, a forma\n",
    "como lhe instanciamos e/ou irá fazer com que o interpretador o trate\n",
    "com mais ou menos privilégios dentro do código. \n",
    "\n",
    "No contexto de termodinâmica, podemos criar classes que representem **modelos de gases**.  \n",
    "\n",
    "🔹 Sintaxe básica:  \n",
    "\n",
    "```python\n",
    "class NomeDaClasse:\n",
    "    # atributos e métodos\n",
    "\n",
    "Exemplo: vamos criar uma classe para representar um gás ideal, definido pela equação de estado dos gases ideais:"
   ]
  },
  {
   "cell_type": "markdown",
   "id": "b0416416",
   "metadata": {},
   "source": [
    "$$\n",
    "P \\cdot V = n \\cdot R \\cdot T\n",
    "$$"
   ]
  },
  {
   "cell_type": "markdown",
   "id": "18775edf",
   "metadata": {},
   "source": [
    "Pela sintaxe convencionalmente usamos o comando **class**\n",
    "(palavra reservada ao sistema) para especificar que a partir deste\n",
    "ponto estamos trabalhando com este tipo de dado, na sequência\n",
    "definimos um nome para essa classe, onde por convenção, é dado\n",
    "um nome qualquer desde que o mesmo se inicie com letra\n",
    "maiúscula, seguindo a notação CapWords (ou PascalCase) (onde a primeira letra de cada palavra composta é maiúscula, sem usar sublinhados, como em *MeuNomeDeClasse*)"
   ]
  },
  {
   "cell_type": "code",
   "execution_count": 1,
   "id": "8dfab464",
   "metadata": {},
   "outputs": [
    {
     "name": "stdout",
     "output_type": "stream",
     "text": [
      "0.082\n"
     ]
    }
   ],
   "source": [
    "class GasIdeal:\n",
    "    R = 0.082  # constante dos gases (L·atm / mol·K)\n",
    "\n",
    "print(GasIdeal.R)  # Acessando a variável de classe R"
   ]
  },
  {
   "cell_type": "markdown",
   "id": "bd6c1628",
   "metadata": {},
   "source": [
    "o comando print( ) mandou exibir em tela a instância *R* que\n",
    "pertence a GasIdeal. Seguindo a lógica do conceito explicado\n",
    "anteriormente, GasIdeal é uma super variável que tem *R* (uma\n",
    "simples variável) contida nele.\n",
    "\n",
    "Abstraindo esse exemplo para simplificar seu entendimento,\n",
    "GasIdeal é uma classe/categoria/tipo de objeto, dentro dessa categoria\n",
    "existe a variável R.\n",
    "\n",
    "Criando uma classe EquaçãoDeEstado, poderíamos da mesma forma\n",
    "ter nossa variável equação, mas agora instanciando cada atributo\n",
    "como objeto da classe EquaçãoDeEstado, teríamos acesso direto a esses\n",
    "dados posteriormente\n"
   ]
  },
  {
   "cell_type": "code",
   "execution_count": 3,
   "id": "412dd54a",
   "metadata": {},
   "outputs": [
    {
     "name": "stdout",
     "output_type": "stream",
     "text": [
      "0.082\n",
      "1.0\n"
     ]
    }
   ],
   "source": [
    "class EquaçãoDeEstado:\n",
    "    pass\n",
    "\n",
    "equação = EquaçãoDeEstado()\n",
    "\n",
    "equação.R = 0.082  # constante dos gases (L·atm / mol·K)\n",
    "print(equação.R)  # Acessando a variável de instância R\n",
    "equação.P = 1.0    # pressão em atm\n",
    "print(equação.P)  # Acessando a variável de instância P\n",
    "\n"
   ]
  },
  {
   "cell_type": "code",
   "execution_count": 4,
   "id": "6583805f",
   "metadata": {},
   "outputs": [
    {
     "ename": "AttributeError",
     "evalue": "'EquaçãoDeEstado' object has no attribute 'R'",
     "output_type": "error",
     "traceback": [
      "\u001b[31m---------------------------------------------------------------------------\u001b[39m",
      "\u001b[31mAttributeError\u001b[39m                            Traceback (most recent call last)",
      "\u001b[36mCell\u001b[39m\u001b[36m \u001b[39m\u001b[32mIn[4]\u001b[39m\u001b[32m, line 2\u001b[39m\n\u001b[32m      1\u001b[39m equação2 = EquaçãoDeEstado()\n\u001b[32m----> \u001b[39m\u001b[32m2\u001b[39m \u001b[38;5;28mprint\u001b[39m(\u001b[43mequação2\u001b[49m\u001b[43m.\u001b[49m\u001b[43mR\u001b[49m)\n",
      "\u001b[31mAttributeError\u001b[39m: 'EquaçãoDeEstado' object has no attribute 'R'"
     ]
    }
   ],
   "source": [
    "equação2 = EquaçãoDeEstado()\n",
    "print(equação2.R)"
   ]
  },
  {
   "cell_type": "markdown",
   "id": "ee7bb25c",
   "metadata": {},
   "source": [
    "Apenas iniciando o entendimento desse exemplo, inicialmente\n",
    "definimos a classe *EquaçãoDeEstado* que por sua vez está vazia de\n",
    "argumentos. Em seguida criamos a variável **equação** que recebe\n",
    "como atribuição a classe *EquaçãoDeEstado( )*, a partir desse ponto, podemos\n",
    "começar a inserir dados (atributos) que ficarão guardados na\n",
    "estrutura dessa classe. Simplesmente aplicando sobre a variável o\n",
    "comando **equação.R = 0.082** estamos criando dentro\n",
    "dessa variável **equação** a variável **R** que tem como atributo o\n",
    "float **0.082**, da mesma forma, dentro da variável **equação** é\n",
    "criada a variável **P = 1**. Note que equação é uma super\n",
    "variável por conter dentro de si outras variáveis com diferentes\n",
    "dados/valores/atributos...\n",
    "\n",
    "Chamamos essa supervariavel de **Objeto**\n"
   ]
  },
  {
   "cell_type": "markdown",
   "id": "38b6cf7e",
   "metadata": {},
   "source": [
    "No exemplo anterior, bastante básico, a classe em si estava\n",
    "vazia, o que não é o convencional, mas ali era somente para\n",
    "exemplificar a lógica de guardar variáveis e seus respectivos\n",
    "atributos dentro de uma classe. Normalmente a lógica de se usar\n",
    "classes é justamente que elas guardem dados e se necessário\n",
    "executem funções a partir dos mesmos. "
   ]
  },
  {
   "cell_type": "code",
   "execution_count": null,
   "id": "af410123",
   "metadata": {},
   "outputs": [
    {
     "name": "stdout",
     "output_type": "stream",
     "text": [
      "Ação printar executada!\n"
     ]
    }
   ],
   "source": [
    "class EquaçãoDeEstado:\n",
    "    def acao_printar(self):\n",
    "        print(\"Ação printar executada!\")\n",
    "\n",
    "# Criando instâncias da classe EquaçãoDeEstado\n",
    "equação3 = EquaçãoDeEstado()\n",
    "\n",
    "equação3.acao_printar()  # Chamando o método acao_printar\n"
   ]
  },
  {
   "cell_type": "markdown",
   "id": "4135d14e",
   "metadata": {},
   "source": [
    "Note que agora a classe não está vazia e dentro dela está definida uma função chamada **acao_printar**. Note que a função acao_printar possui um argumento chave **self** que para efeitos práticos vamos resumir como :\n",
    "\n",
    "Em Python, self é uma referência à instância atual da classe e é usado para acessar variáveis que pertencem à classe. Ele atua como um ponteiro para a instância da classe que está sendo executada no momento. Em outras palavras, self representa o objeto ou a instância de uma classe.\n",
    "\n",
    "A função **acao_printar** corresponde a um método da classe *EquaçãoDeEstado*\n",
    "\n",
    "O uso do self é necessário para acessar atributos e métodos da classe dentro de seus métodos. Isso é importante para diferenciar entre métodos e atributos de instância e métodos e atributos de classe."
   ]
  },
  {
   "cell_type": "markdown",
   "id": "465152e3",
   "metadata": {},
   "source": [
    "## Definição de uma Classe\n",
    "Em Python podemos manualmente definir uma classe\n",
    "respeitando sua sintaxe adequada. Basicamente\n",
    "quando temos uma função dentro de uma classe ela é chamada de\n",
    "**método** dessa classe, que pode executar qualquer coisa. Outro\n",
    "ponto é que quando definimos uma classe manualmente\n",
    "começamos criando um **construtor** para ela, uma função que ficará\n",
    "reservada ao sistema e será chamada sempre que uma instância\n",
    "dessa classe for criada/usada. "
   ]
  },
  {
   "cell_type": "code",
   "execution_count": null,
   "id": "fc0fcaa4",
   "metadata": {},
   "outputs": [],
   "source": [
    "class GasIdeal:\n",
    "    R = 0.082  # L·atm / mol·K\n",
    "\n",
    "    def __init__(self, n, T, V):\n",
    "        self.n = n  # Atributo de instância\n",
    "        self.T = T  # Atributo de instância\n",
    "        self.V = V  # Atributo de instância\n",
    "\n",
    "    def calcular_pressao(self): # Método de instância\n",
    "        \"\"\"Calcula a pressão usando PV = nRT\"\"\"\n",
    "        return (self.n * GasIdeal.R * self.T) / self.V"
   ]
  },
  {
   "cell_type": "code",
   "execution_count": null,
   "id": "89014696",
   "metadata": {},
   "outputs": [
    {
     "name": "stdout",
     "output_type": "stream",
     "text": [
      "Pressão do gás (atm): 2.46\n"
     ]
    }
   ],
   "source": [
    "# Criando um objeto (instância) da classe GasIdeal\n",
    "gas = GasIdeal(n=1, T=300, V=10)  # 1 mol, 300 K, 10 L\n",
    "\n",
    "print(\"Pressão do gás (atm):\", gas.calcular_pressao())"
   ]
  },
  {
   "cell_type": "markdown",
   "id": "a27654b3",
   "metadata": {},
   "source": [
    "Note que é declarado e definido o construtor da classe __init__ ,\n",
    "que sempre terá self como parâmetro (instância padrão), seguido\n",
    "de quantos parâmetros personalizados o usuário criar, desde que\n",
    "separados por vírgula. "
   ]
  },
  {
   "cell_type": "markdown",
   "id": "f981077b",
   "metadata": {},
   "source": [
    "### 2.4 Class vs. Instance Variables\n",
    "\n",
    "- **Variáveis de instância**: pertencem a cada objeto (ex.: `n`, `T`, `V`)  \n",
    "- **Variáveis de classe**: são compartilhadas por todos os objetos (ex.: `R`, constante dos gases).  \n",
    "\n",
    "Isso é útil em termodinâmica, pois a constante dos gases é **universal** e pode ser definida na classe,  \n",
    "enquanto `n`, `T` e `V` mudam para cada sistema.\n"
   ]
  },
  {
   "cell_type": "code",
   "execution_count": null,
   "id": "e307d0f8",
   "metadata": {},
   "outputs": [],
   "source": [
    "gas1 = GasIdeal(n=1, T=300, V=10)  # 1 mol, 300 K, 10 L\n",
    "print('n :', gas1.n, 'T :', gas1.T, 'V :', gas1.V, 'R :', gas1.R)\n",
    "\n",
    "gas2 = GasIdeal(n=2, T=400, V=20)  # 2 mol, 400 K, 20 L\n",
    "print('n :', gas2.n, 'T :', gas2.T, 'V :', gas2.V, 'R :', gas2.R)\n"
   ]
  },
  {
   "cell_type": "markdown",
   "id": "f0c6adf1",
   "metadata": {},
   "source": [
    "#### Alterando dados/valores de uma instância\n",
    "Para modificar ou alterar o valor e um objeto ja instanciado por meio de atribuição\n",
    "direta ou por intermédio de funções que são específicas para\n",
    "manipulação de objetos de classe.\n"
   ]
  },
  {
   "cell_type": "markdown",
   "id": "50f88b0c",
   "metadata": {},
   "source": []
  }
 ],
 "metadata": {
  "kernelspec": {
   "display_name": ".sensores_env (3.13.3)",
   "language": "python",
   "name": "python3"
  },
  "language_info": {
   "codemirror_mode": {
    "name": "ipython",
    "version": 3
   },
   "file_extension": ".py",
   "mimetype": "text/x-python",
   "name": "python",
   "nbconvert_exporter": "python",
   "pygments_lexer": "ipython3",
   "version": "3.13.3"
  }
 },
 "nbformat": 4,
 "nbformat_minor": 5
}
