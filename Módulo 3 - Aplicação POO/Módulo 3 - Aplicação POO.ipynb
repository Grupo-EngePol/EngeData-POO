{
 "cells": [
  {
   "cell_type": "code",
   "execution_count": null,
   "id": "846ab754",
   "metadata": {},
   "outputs": [],
   "source": []
  },
  {
   "cell_type": "markdown",
   "id": "59cdebe2",
   "metadata": {},
   "source": [
    "Módulo 3 – Aplicações da POO em Engenharia (1,5h)\n",
    "•\tCriação de bibliotecas reutilizáveis\n",
    "•\tExemplo prático: ferramenta de simulação de escoamento ou balanço de massa como pacote\n"
   ]
  },
  {
   "cell_type": "markdown",
   "id": "0cfe9f6e",
   "metadata": {},
   "source": []
  }
 ],
 "metadata": {
  "language_info": {
   "name": "python"
  }
 },
 "nbformat": 4,
 "nbformat_minor": 5
}
