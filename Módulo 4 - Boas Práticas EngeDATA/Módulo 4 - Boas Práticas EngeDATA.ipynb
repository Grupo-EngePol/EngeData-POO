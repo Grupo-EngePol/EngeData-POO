{
 "cells": [
  {
   "cell_type": "code",
   "execution_count": null,
   "id": "846ab754",
   "metadata": {},
   "outputs": [],
   "source": []
  },
  {
   "cell_type": "markdown",
   "id": "4ef33d76",
   "metadata": {},
   "source": [
    "Módulo 4 – Boas Práticas de Projeto e Organização de Código (1,5h)\n",
    "•\tPEP8 e linting com flake8 ou pylint\n",
    "•\tOrganização modular de código científico: \n",
    "o\tSrc\n",
    "o\tBackend\n",
    "o\tFrontend\n",
    "o\tDoc....\n",
    "•\tDocstrings e documentação automática com Sphinx\n",
    "•\tEstrutura de pacotes: __init__.py, organização em módulos\n",
    "•\tExemplo: reestruturar uma ferramenta usada em artigo para uso público\n"
   ]
  }
 ],
 "metadata": {
  "language_info": {
   "name": "python"
  }
 },
 "nbformat": 4,
 "nbformat_minor": 5
}
